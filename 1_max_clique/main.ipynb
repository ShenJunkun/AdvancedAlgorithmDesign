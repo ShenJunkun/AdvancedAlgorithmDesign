{
 "cells": [
  {
   "cell_type": "code",
   "execution_count": 21,
   "metadata": {},
   "outputs": [
    {
     "name": "stdout",
     "output_type": "stream",
     "text": [
      "Edges List: [(1, 2), (2, 3), (3, 4)]\n"
     ]
    }
   ],
   "source": [
    "import networkx as nx\n",
    "\n",
    "# 创建一个简单的图\n",
    "G = nx.Graph()\n",
    "G.add_edges_from([(1, 2), (2, 3), (3, 4)])\n",
    "\n",
    "# 获得图的所有边的列表\n",
    "edges_list = list(G.edges())\n",
    "G.add_edge(1, 4)\n",
    "# 打印边的列表\n",
    "print(\"Edges List:\", edges_list)\n"
   ]
  }
 ],
 "metadata": {
  "language_info": {
   "name": "python"
  }
 },
 "nbformat": 4,
 "nbformat_minor": 2
}
